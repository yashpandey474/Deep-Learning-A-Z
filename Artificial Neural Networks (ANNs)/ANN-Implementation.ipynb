{
 "cells": [
  {
   "cell_type": "code",
   "execution_count": 1,
   "id": "dabc5abe",
   "metadata": {},
   "outputs": [],
   "source": [
    "import numpy as np\n",
    "import pandas as pd\n",
    "import tensorflow as tf"
   ]
  },
  {
   "cell_type": "code",
   "execution_count": 4,
   "id": "6af01da1",
   "metadata": {},
   "outputs": [],
   "source": [
    "#GET THE DATA\n",
    "dataset = pd.read_csv('Churn_Modelling.csv')\n",
    "\n",
    "#FEATURES; ALL EXCEPT ROWNUMBER; CUSTOMERID; SURNAME; LABEL [2 to -2]\n",
    "X = dataset.iloc[:,3:-1].values\n",
    "Y = dataset.iloc[:, -1].values"
   ]
  },
  {
   "cell_type": "code",
   "execution_count": 6,
   "id": "5371ed75",
   "metadata": {},
   "outputs": [],
   "source": [
    "#ENCODING CATEGORICAL DATA\n",
    "#-> COUNTRY [FRANCE, SPAIN, GERMANY]\n",
    "#-> GENDER [FEMALE, MALE]\n",
    "#CONVERT TO LABELS (0,1) OR ONE-HOT ENCODING"
   ]
  },
  {
   "cell_type": "code",
   "execution_count": 7,
   "id": "2810d15e",
   "metadata": {},
   "outputs": [
    {
     "name": "stderr",
     "output_type": "stream",
     "text": [
      "/Users/kpandey/anaconda3/envs/nlp_course/lib/python3.7/site-packages/sklearn/utils/validation.py:37: DeprecationWarning: distutils Version classes are deprecated. Use packaging.version instead.\n",
      "  LARGE_SPARSE_SUPPORTED = LooseVersion(scipy_version) >= '0.14.0'\n"
     ]
    }
   ],
   "source": [
    "#LABEL ENCODING OF GENDER [0,1]\n",
    "from sklearn.preprocessing import LabelEncoder\n",
    "le = LabelEncoder()\n",
    "#->ALL ROWS; ONLY COLUMN WITH INDEX 2\n",
    "X[:,2] = le.fit_transform(X[:,2])\n",
    "#[MALE,FEMALE] -> [0,1]"
   ]
  },
  {
   "cell_type": "code",
   "execution_count": 15,
   "id": "e81a3374",
   "metadata": {},
   "outputs": [
    {
     "name": "stderr",
     "output_type": "stream",
     "text": [
      "/Users/kpandey/anaconda3/envs/nlp_course/lib/python3.7/site-packages/sklearn/preprocessing/_encoders.py:351: DeprecationWarning: `np.int` is a deprecated alias for the builtin `int`. To silence this warning, use `int` by itself. Doing this will not modify any behavior and is safe. When replacing `np.int`, you may wish to use e.g. `np.int64` or `np.int32` to specify the precision. If you wish to review your current use, check the release note link for additional information.\n",
      "Deprecated in NumPy 1.20; for more details and guidance: https://numpy.org/devdocs/release/1.20.0-notes.html#deprecations\n",
      "  X = check_array(X, dtype=np.int)\n",
      "/Users/kpandey/anaconda3/envs/nlp_course/lib/python3.7/site-packages/sklearn/preprocessing/_encoders.py:95: DeprecationWarning: `np.int` is a deprecated alias for the builtin `int`. To silence this warning, use `int` by itself. Doing this will not modify any behavior and is safe. When replacing `np.int`, you may wish to use e.g. `np.int64` or `np.int32` to specify the precision. If you wish to review your current use, check the release note link for additional information.\n",
      "Deprecated in NumPy 1.20; for more details and guidance: https://numpy.org/devdocs/release/1.20.0-notes.html#deprecations\n",
      "  X_int = np.zeros_like(X, dtype=np.int)\n",
      "/Users/kpandey/anaconda3/envs/nlp_course/lib/python3.7/site-packages/sklearn/preprocessing/_encoders.py:96: DeprecationWarning: `np.bool` is a deprecated alias for the builtin `bool`. To silence this warning, use `bool` by itself. Doing this will not modify any behavior and is safe. If you specifically wanted the numpy scalar type, use `np.bool_` here.\n",
      "Deprecated in NumPy 1.20; for more details and guidance: https://numpy.org/devdocs/release/1.20.0-notes.html#deprecations\n",
      "  X_mask = np.ones_like(X, dtype=np.bool)\n"
     ]
    }
   ],
   "source": [
    "#ONE-HOT ENCODING OF GEOGRAPHY [NO RELATION BETWEEN FRANCE, GERMANY, SPAIN]\n",
    "from sklearn.compose import ColumnTransformer\n",
    "from sklearn.preprocessing import OneHotEncoder\n",
    "#->COLUMN WITH INDEX 1\n",
    "ct = ColumnTransformer(transformers=[('encoder',OneHotEncoder(), [1])], remainder = 'passthrough')\n",
    "X = np.array(ct.fit_transform(X))"
   ]
  },
  {
   "cell_type": "code",
   "execution_count": 16,
   "id": "95f3afe2",
   "metadata": {},
   "outputs": [
    {
     "name": "stdout",
     "output_type": "stream",
     "text": [
      "[[1.0 0.0 0.0 ... 1 1 101348.88]\n",
      " [0.0 0.0 1.0 ... 0 1 112542.58]\n",
      " [1.0 0.0 0.0 ... 1 0 113931.57]\n",
      " ...\n",
      " [1.0 0.0 0.0 ... 0 1 42085.58]\n",
      " [0.0 1.0 0.0 ... 1 0 92888.52]\n",
      " [1.0 0.0 0.0 ... 1 0 38190.78]]\n"
     ]
    }
   ],
   "source": [
    "print(X)"
   ]
  },
  {
   "cell_type": "code",
   "execution_count": 47,
   "id": "14df7f57",
   "metadata": {},
   "outputs": [],
   "source": [
    "#SPLIT DATASET INTO TRAINING AND TEST SET\n",
    "from sklearn.model_selection import train_test_split\n",
    "X_TRAIN, X_TEST, Y_TRAIN, Y_TEST = train_test_split(X, Y, test_size= 0.2, random_state = 42)"
   ]
  },
  {
   "cell_type": "code",
   "execution_count": 48,
   "id": "7eac7f02",
   "metadata": {},
   "outputs": [
    {
     "name": "stderr",
     "output_type": "stream",
     "text": [
      "/Users/kpandey/anaconda3/envs/nlp_course/lib/python3.7/site-packages/sklearn/utils/validation.py:595: DataConversionWarning: Data with input dtype object was converted to float64 by StandardScaler.\n",
      "  warnings.warn(msg, DataConversionWarning)\n",
      "/Users/kpandey/anaconda3/envs/nlp_course/lib/python3.7/site-packages/sklearn/utils/validation.py:595: DataConversionWarning: Data with input dtype object was converted to float64 by StandardScaler.\n",
      "  warnings.warn(msg, DataConversionWarning)\n",
      "/Users/kpandey/anaconda3/envs/nlp_course/lib/python3.7/site-packages/sklearn/utils/validation.py:595: DataConversionWarning: Data with input dtype object was converted to float64 by StandardScaler.\n",
      "  warnings.warn(msg, DataConversionWarning)\n"
     ]
    }
   ],
   "source": [
    "#FEATURE SCALING - NECESSARY FOR DEEP LEARNING\n",
    "from sklearn.preprocessing import StandardScaler\n",
    "sc = StandardScaler()\n",
    "X_TRAIN = sc.fit_transform(X_TRAIN)\n",
    "X_TEST = sc.transform(X_TEST) #AVOID INFORMATION LEAKAGE; NO FIT"
   ]
  },
  {
   "cell_type": "code",
   "execution_count": 21,
   "id": "cb17814c",
   "metadata": {},
   "outputs": [],
   "source": [
    "#BUILDING THE ARTIFICIAL NEURAL NETWORK"
   ]
  },
  {
   "cell_type": "code",
   "execution_count": 23,
   "id": "4ec61abf",
   "metadata": {},
   "outputs": [],
   "source": [
    "#INITIALISING THE ANN\n",
    "from tensorflow.keras.models import Sequential\n",
    "\n",
    "ann = Sequential()"
   ]
  },
  {
   "cell_type": "code",
   "execution_count": 24,
   "id": "33d4076c",
   "metadata": {},
   "outputs": [],
   "source": [
    "#ADDING INPUT AND FIRST HIDDEN LAYER\n",
    "\n",
    "#DENSE TO ADD A SIMPLE FULLY CONNECTED LAYER\n",
    "from tensorflow.keras.layers import Dense\n",
    "\n",
    "#DROPOUT LAYER TO AVOID OVERFITTING\n",
    "\n",
    "\n",
    "#->UNITS = NUMBER OF NEURONS IN HIDDEN LAYER\n",
    "#-> HOW MANY NEURONS? EXPERIMENTATION; NO RULE OF THUMB [THESE ARE HYPERPARAMETERS]\n",
    "#-> HIDDEN LAYERS HAVE RECTIFIER FUNCTION\n",
    "ann.add(Dense(units= 6, activation = 'relu'))"
   ]
  },
  {
   "cell_type": "code",
   "execution_count": 25,
   "id": "49d5ac59",
   "metadata": {},
   "outputs": [],
   "source": [
    "#ADDING SECOND HIDDEN LAYER\n",
    "ann.add(Dense(units= 6, activation = 'relu'))"
   ]
  },
  {
   "cell_type": "code",
   "execution_count": 26,
   "id": "ff3accf5",
   "metadata": {},
   "outputs": [],
   "source": [
    "#ADDING OUTPUT LAYER\n",
    "\n",
    "#-> FULLY CONNECTED: DENSE\n",
    "#-> OUTPUT LAYER; NUMBER OF NEURONS = 1; BINARY CLASSIFICATION\n",
    "#-> OUTPUT LAYER; ACTIVATION = SIGMOID\n",
    "ann.add(Dense(units= 1, activation = 'sigmoid')) #PROBABILITIES ALSO"
   ]
  },
  {
   "cell_type": "code",
   "execution_count": 27,
   "id": "6c383753",
   "metadata": {},
   "outputs": [],
   "source": [
    "#COMPILING THE ANN\n",
    "#-> BEST OPTIMIZER: SDG; ADAM PERFORMS SDG\n",
    "#-> BINARY CLASSIFICATION; BINARY_CROSSENTROPY\n",
    "#-> NON BINARY CLASSIFICATION: CATEGORICAL_CROSSENTROPY; ACTIVATION. ='SOFTMAX', MULTIPLE NEUROONS IN OUTPUT LAYER\n",
    "ann.compile(optimizer = 'adam', loss = 'binary_crossentropy', metrics = ['accuracy'])"
   ]
  },
  {
   "cell_type": "code",
   "execution_count": 59,
   "id": "b0e679b9",
   "metadata": {},
   "outputs": [
    {
     "name": "stdout",
     "output_type": "stream",
     "text": [
      "Epoch 1/200\n",
      "250/250 [==============================] - 0s 1ms/step - loss: 0.3248 - accuracy: 0.8650\n",
      "Epoch 2/200\n",
      "250/250 [==============================] - 0s 992us/step - loss: 0.3251 - accuracy: 0.8643\n",
      "Epoch 3/200\n",
      "250/250 [==============================] - 0s 1ms/step - loss: 0.3246 - accuracy: 0.8646\n",
      "Epoch 4/200\n",
      "250/250 [==============================] - 0s 1ms/step - loss: 0.3248 - accuracy: 0.8629\n",
      "Epoch 5/200\n",
      "250/250 [==============================] - 0s 1ms/step - loss: 0.3245 - accuracy: 0.8644\n",
      "Epoch 6/200\n",
      "250/250 [==============================] - 0s 1ms/step - loss: 0.3243 - accuracy: 0.8648\n",
      "Epoch 7/200\n",
      "250/250 [==============================] - 0s 943us/step - loss: 0.3245 - accuracy: 0.8637\n",
      "Epoch 8/200\n",
      "250/250 [==============================] - 0s 1ms/step - loss: 0.3245 - accuracy: 0.8639\n",
      "Epoch 9/200\n",
      "250/250 [==============================] - 0s 1ms/step - loss: 0.3245 - accuracy: 0.8644\n",
      "Epoch 10/200\n",
      "250/250 [==============================] - 0s 971us/step - loss: 0.3244 - accuracy: 0.8650\n",
      "Epoch 11/200\n",
      "250/250 [==============================] - 0s 962us/step - loss: 0.3248 - accuracy: 0.8637\n",
      "Epoch 12/200\n",
      "250/250 [==============================] - 0s 1ms/step - loss: 0.3246 - accuracy: 0.8636\n",
      "Epoch 13/200\n",
      "250/250 [==============================] - 0s 1ms/step - loss: 0.3249 - accuracy: 0.8636\n",
      "Epoch 14/200\n",
      "250/250 [==============================] - 0s 1ms/step - loss: 0.3245 - accuracy: 0.8645\n",
      "Epoch 15/200\n",
      "250/250 [==============================] - 0s 1ms/step - loss: 0.3244 - accuracy: 0.8635\n",
      "Epoch 16/200\n",
      "250/250 [==============================] - 0s 1ms/step - loss: 0.3243 - accuracy: 0.8634\n",
      "Epoch 17/200\n",
      "250/250 [==============================] - 0s 1ms/step - loss: 0.3246 - accuracy: 0.8644\n",
      "Epoch 18/200\n",
      "250/250 [==============================] - 0s 1ms/step - loss: 0.3244 - accuracy: 0.8637\n",
      "Epoch 19/200\n",
      "250/250 [==============================] - 0s 972us/step - loss: 0.3244 - accuracy: 0.8643\n",
      "Epoch 20/200\n",
      "250/250 [==============================] - 0s 1ms/step - loss: 0.3247 - accuracy: 0.8639\n",
      "Epoch 21/200\n",
      "250/250 [==============================] - 0s 1ms/step - loss: 0.3245 - accuracy: 0.8640\n",
      "Epoch 22/200\n",
      "250/250 [==============================] - 0s 902us/step - loss: 0.3244 - accuracy: 0.8641\n",
      "Epoch 23/200\n",
      "250/250 [==============================] - 0s 958us/step - loss: 0.3245 - accuracy: 0.8648\n",
      "Epoch 24/200\n",
      "250/250 [==============================] - 0s 1ms/step - loss: 0.3244 - accuracy: 0.8648\n",
      "Epoch 25/200\n",
      "250/250 [==============================] - 0s 2ms/step - loss: 0.3243 - accuracy: 0.8635\n",
      "Epoch 26/200\n",
      "250/250 [==============================] - 0s 1ms/step - loss: 0.3247 - accuracy: 0.8645\n",
      "Epoch 27/200\n",
      "250/250 [==============================] - 0s 1ms/step - loss: 0.3244 - accuracy: 0.8652\n",
      "Epoch 28/200\n",
      "250/250 [==============================] - 0s 973us/step - loss: 0.3242 - accuracy: 0.8649\n",
      "Epoch 29/200\n",
      "250/250 [==============================] - 0s 860us/step - loss: 0.3244 - accuracy: 0.8635\n",
      "Epoch 30/200\n",
      "250/250 [==============================] - 0s 1ms/step - loss: 0.3245 - accuracy: 0.8630\n",
      "Epoch 31/200\n",
      "250/250 [==============================] - 0s 962us/step - loss: 0.3244 - accuracy: 0.8644\n",
      "Epoch 32/200\n",
      "250/250 [==============================] - 0s 865us/step - loss: 0.3244 - accuracy: 0.8650\n",
      "Epoch 33/200\n",
      "250/250 [==============================] - 0s 873us/step - loss: 0.3246 - accuracy: 0.8643\n",
      "Epoch 34/200\n",
      "250/250 [==============================] - 0s 1ms/step - loss: 0.3246 - accuracy: 0.8640\n",
      "Epoch 35/200\n",
      "250/250 [==============================] - 0s 947us/step - loss: 0.3244 - accuracy: 0.8641\n",
      "Epoch 36/200\n",
      "250/250 [==============================] - 0s 958us/step - loss: 0.3246 - accuracy: 0.8648\n",
      "Epoch 37/200\n",
      "250/250 [==============================] - 0s 1ms/step - loss: 0.3242 - accuracy: 0.8643\n",
      "Epoch 38/200\n",
      "250/250 [==============================] - 0s 1ms/step - loss: 0.3245 - accuracy: 0.8655\n",
      "Epoch 39/200\n",
      "250/250 [==============================] - 0s 862us/step - loss: 0.3244 - accuracy: 0.8650\n",
      "Epoch 40/200\n",
      "250/250 [==============================] - 0s 903us/step - loss: 0.3245 - accuracy: 0.8630\n",
      "Epoch 41/200\n",
      "250/250 [==============================] - 0s 929us/step - loss: 0.3246 - accuracy: 0.8645\n",
      "Epoch 42/200\n",
      "250/250 [==============================] - 0s 873us/step - loss: 0.3244 - accuracy: 0.8644\n",
      "Epoch 43/200\n",
      "250/250 [==============================] - 0s 1ms/step - loss: 0.3243 - accuracy: 0.8644\n",
      "Epoch 44/200\n",
      "250/250 [==============================] - 0s 1ms/step - loss: 0.3244 - accuracy: 0.8639\n",
      "Epoch 45/200\n",
      "250/250 [==============================] - 0s 1ms/step - loss: 0.3247 - accuracy: 0.8634\n",
      "Epoch 46/200\n",
      "250/250 [==============================] - 0s 1ms/step - loss: 0.3245 - accuracy: 0.8640\n",
      "Epoch 47/200\n",
      "250/250 [==============================] - 0s 1ms/step - loss: 0.3243 - accuracy: 0.8636\n",
      "Epoch 48/200\n",
      "250/250 [==============================] - 0s 831us/step - loss: 0.3244 - accuracy: 0.8637\n",
      "Epoch 49/200\n",
      "250/250 [==============================] - 0s 1ms/step - loss: 0.3243 - accuracy: 0.8639\n",
      "Epoch 50/200\n",
      "250/250 [==============================] - 0s 1ms/step - loss: 0.3246 - accuracy: 0.8655\n",
      "Epoch 51/200\n",
      "250/250 [==============================] - 0s 899us/step - loss: 0.3246 - accuracy: 0.8636\n",
      "Epoch 52/200\n",
      "250/250 [==============================] - 0s 1ms/step - loss: 0.3245 - accuracy: 0.8631\n",
      "Epoch 53/200\n",
      "250/250 [==============================] - 0s 1ms/step - loss: 0.3242 - accuracy: 0.8635\n",
      "Epoch 54/200\n",
      "250/250 [==============================] - 0s 1ms/step - loss: 0.3243 - accuracy: 0.8649\n",
      "Epoch 55/200\n",
      "250/250 [==============================] - 0s 1ms/step - loss: 0.3245 - accuracy: 0.8640\n",
      "Epoch 56/200\n",
      "250/250 [==============================] - 0s 1ms/step - loss: 0.3246 - accuracy: 0.8640\n",
      "Epoch 57/200\n",
      "250/250 [==============================] - 0s 1ms/step - loss: 0.3244 - accuracy: 0.8635\n",
      "Epoch 58/200\n",
      "250/250 [==============================] - 0s 997us/step - loss: 0.3244 - accuracy: 0.8648\n",
      "Epoch 59/200\n",
      "250/250 [==============================] - 0s 1ms/step - loss: 0.3248 - accuracy: 0.8644\n",
      "Epoch 60/200\n",
      "250/250 [==============================] - 0s 1ms/step - loss: 0.3244 - accuracy: 0.8629\n",
      "Epoch 61/200\n",
      "250/250 [==============================] - 0s 1ms/step - loss: 0.3241 - accuracy: 0.8649\n",
      "Epoch 62/200\n",
      "250/250 [==============================] - 0s 1ms/step - loss: 0.3247 - accuracy: 0.8637\n",
      "Epoch 63/200\n",
      "250/250 [==============================] - 0s 1ms/step - loss: 0.3243 - accuracy: 0.8643\n",
      "Epoch 64/200\n",
      "250/250 [==============================] - 0s 1ms/step - loss: 0.3245 - accuracy: 0.8635\n",
      "Epoch 65/200\n",
      "250/250 [==============================] - 0s 974us/step - loss: 0.3242 - accuracy: 0.8635\n",
      "Epoch 66/200\n",
      "250/250 [==============================] - 0s 1ms/step - loss: 0.3242 - accuracy: 0.8643\n",
      "Epoch 67/200\n",
      "250/250 [==============================] - 0s 1ms/step - loss: 0.3243 - accuracy: 0.8644\n",
      "Epoch 68/200\n",
      "250/250 [==============================] - 0s 1ms/step - loss: 0.3245 - accuracy: 0.8637\n",
      "Epoch 69/200\n",
      "250/250 [==============================] - 0s 1ms/step - loss: 0.3246 - accuracy: 0.8643\n",
      "Epoch 70/200\n",
      "250/250 [==============================] - 0s 991us/step - loss: 0.3243 - accuracy: 0.8648\n",
      "Epoch 71/200\n",
      "250/250 [==============================] - 0s 968us/step - loss: 0.3243 - accuracy: 0.8643\n",
      "Epoch 72/200\n",
      "250/250 [==============================] - 0s 1ms/step - loss: 0.3243 - accuracy: 0.8639\n",
      "Epoch 73/200\n",
      "250/250 [==============================] - 0s 1ms/step - loss: 0.3243 - accuracy: 0.8643\n",
      "Epoch 74/200\n",
      "250/250 [==============================] - 0s 1ms/step - loss: 0.3241 - accuracy: 0.8636\n",
      "Epoch 75/200\n",
      "250/250 [==============================] - 0s 1ms/step - loss: 0.3242 - accuracy: 0.8637\n",
      "Epoch 76/200\n",
      "250/250 [==============================] - 0s 1ms/step - loss: 0.3249 - accuracy: 0.8640\n",
      "Epoch 77/200\n",
      "250/250 [==============================] - 0s 1ms/step - loss: 0.3245 - accuracy: 0.8637\n",
      "Epoch 78/200\n",
      "250/250 [==============================] - 0s 1ms/step - loss: 0.3242 - accuracy: 0.8641\n",
      "Epoch 79/200\n",
      "250/250 [==============================] - 0s 1ms/step - loss: 0.3245 - accuracy: 0.8649\n",
      "Epoch 80/200\n"
     ]
    },
    {
     "name": "stdout",
     "output_type": "stream",
     "text": [
      "250/250 [==============================] - 0s 1ms/step - loss: 0.3241 - accuracy: 0.8631\n",
      "Epoch 81/200\n",
      "250/250 [==============================] - 0s 1ms/step - loss: 0.3243 - accuracy: 0.8637\n",
      "Epoch 82/200\n",
      "250/250 [==============================] - 0s 1ms/step - loss: 0.3244 - accuracy: 0.8641\n",
      "Epoch 83/200\n",
      "250/250 [==============================] - 0s 1ms/step - loss: 0.3244 - accuracy: 0.8645\n",
      "Epoch 84/200\n",
      "250/250 [==============================] - 0s 1ms/step - loss: 0.3242 - accuracy: 0.8630\n",
      "Epoch 85/200\n",
      "250/250 [==============================] - 0s 1ms/step - loss: 0.3243 - accuracy: 0.8639\n",
      "Epoch 86/200\n",
      "250/250 [==============================] - 0s 996us/step - loss: 0.3245 - accuracy: 0.8650\n",
      "Epoch 87/200\n",
      "250/250 [==============================] - 0s 944us/step - loss: 0.3242 - accuracy: 0.8637\n",
      "Epoch 88/200\n",
      "250/250 [==============================] - 0s 908us/step - loss: 0.3245 - accuracy: 0.8640\n",
      "Epoch 89/200\n",
      "250/250 [==============================] - 0s 911us/step - loss: 0.3244 - accuracy: 0.8643\n",
      "Epoch 90/200\n",
      "250/250 [==============================] - 0s 1ms/step - loss: 0.3242 - accuracy: 0.8643\n",
      "Epoch 91/200\n",
      "250/250 [==============================] - 0s 1ms/step - loss: 0.3243 - accuracy: 0.8640\n",
      "Epoch 92/200\n",
      "250/250 [==============================] - 0s 948us/step - loss: 0.3247 - accuracy: 0.8644\n",
      "Epoch 93/200\n",
      "250/250 [==============================] - 0s 1ms/step - loss: 0.3243 - accuracy: 0.8646\n",
      "Epoch 94/200\n",
      "250/250 [==============================] - 0s 912us/step - loss: 0.3244 - accuracy: 0.8639\n",
      "Epoch 95/200\n",
      "250/250 [==============================] - 0s 892us/step - loss: 0.3242 - accuracy: 0.8641\n",
      "Epoch 96/200\n",
      "250/250 [==============================] - 0s 896us/step - loss: 0.3243 - accuracy: 0.8649\n",
      "Epoch 97/200\n",
      "250/250 [==============================] - 0s 1ms/step - loss: 0.3242 - accuracy: 0.8648\n",
      "Epoch 98/200\n",
      "250/250 [==============================] - 0s 869us/step - loss: 0.3242 - accuracy: 0.8636\n",
      "Epoch 99/200\n",
      "250/250 [==============================] - 0s 967us/step - loss: 0.3242 - accuracy: 0.8633\n",
      "Epoch 100/200\n",
      "250/250 [==============================] - 0s 897us/step - loss: 0.3243 - accuracy: 0.8637\n",
      "Epoch 101/200\n",
      "250/250 [==============================] - 0s 913us/step - loss: 0.3244 - accuracy: 0.8641\n",
      "Epoch 102/200\n",
      "250/250 [==============================] - 0s 917us/step - loss: 0.3241 - accuracy: 0.8629\n",
      "Epoch 103/200\n",
      "250/250 [==============================] - 0s 940us/step - loss: 0.3244 - accuracy: 0.8640\n",
      "Epoch 104/200\n",
      "250/250 [==============================] - 0s 925us/step - loss: 0.3242 - accuracy: 0.8625\n",
      "Epoch 105/200\n",
      "250/250 [==============================] - 0s 912us/step - loss: 0.3245 - accuracy: 0.8644\n",
      "Epoch 106/200\n",
      "250/250 [==============================] - 0s 946us/step - loss: 0.3244 - accuracy: 0.8635\n",
      "Epoch 107/200\n",
      "250/250 [==============================] - 0s 890us/step - loss: 0.3242 - accuracy: 0.8637\n",
      "Epoch 108/200\n",
      "250/250 [==============================] - 0s 988us/step - loss: 0.3245 - accuracy: 0.8640\n",
      "Epoch 109/200\n",
      "250/250 [==============================] - 0s 882us/step - loss: 0.3240 - accuracy: 0.8652\n",
      "Epoch 110/200\n",
      "250/250 [==============================] - 0s 901us/step - loss: 0.3241 - accuracy: 0.8633\n",
      "Epoch 111/200\n",
      "250/250 [==============================] - 0s 896us/step - loss: 0.3240 - accuracy: 0.8636\n",
      "Epoch 112/200\n",
      "250/250 [==============================] - 0s 923us/step - loss: 0.3243 - accuracy: 0.8655\n",
      "Epoch 113/200\n",
      "250/250 [==============================] - 0s 904us/step - loss: 0.3243 - accuracy: 0.8636\n",
      "Epoch 114/200\n",
      "250/250 [==============================] - 0s 914us/step - loss: 0.3244 - accuracy: 0.8635\n",
      "Epoch 115/200\n",
      "250/250 [==============================] - 0s 930us/step - loss: 0.3243 - accuracy: 0.8643\n",
      "Epoch 116/200\n",
      "250/250 [==============================] - 0s 1ms/step - loss: 0.3244 - accuracy: 0.8635\n",
      "Epoch 117/200\n",
      "250/250 [==============================] - 0s 918us/step - loss: 0.3242 - accuracy: 0.8645\n",
      "Epoch 118/200\n",
      "250/250 [==============================] - 0s 929us/step - loss: 0.3242 - accuracy: 0.8637\n",
      "Epoch 119/200\n",
      "250/250 [==============================] - 0s 870us/step - loss: 0.3240 - accuracy: 0.8649\n",
      "Epoch 120/200\n",
      "250/250 [==============================] - 0s 892us/step - loss: 0.3241 - accuracy: 0.8637\n",
      "Epoch 121/200\n",
      "250/250 [==============================] - 0s 932us/step - loss: 0.3242 - accuracy: 0.8640\n",
      "Epoch 122/200\n",
      "250/250 [==============================] - 0s 880us/step - loss: 0.3243 - accuracy: 0.8651\n",
      "Epoch 123/200\n",
      "250/250 [==============================] - 0s 984us/step - loss: 0.3240 - accuracy: 0.8641\n",
      "Epoch 124/200\n",
      "250/250 [==============================] - 0s 1ms/step - loss: 0.3240 - accuracy: 0.8633\n",
      "Epoch 125/200\n",
      "250/250 [==============================] - 0s 1ms/step - loss: 0.3244 - accuracy: 0.8621\n",
      "Epoch 126/200\n",
      "250/250 [==============================] - 0s 970us/step - loss: 0.3241 - accuracy: 0.8644\n",
      "Epoch 127/200\n",
      "250/250 [==============================] - 0s 876us/step - loss: 0.3241 - accuracy: 0.8639\n",
      "Epoch 128/200\n",
      "250/250 [==============================] - 0s 1ms/step - loss: 0.3241 - accuracy: 0.8654\n",
      "Epoch 129/200\n",
      "250/250 [==============================] - 0s 898us/step - loss: 0.3241 - accuracy: 0.8633\n",
      "Epoch 130/200\n",
      "250/250 [==============================] - 0s 943us/step - loss: 0.3244 - accuracy: 0.8643\n",
      "Epoch 131/200\n",
      "250/250 [==============================] - 0s 918us/step - loss: 0.3242 - accuracy: 0.8640\n",
      "Epoch 132/200\n",
      "250/250 [==============================] - 0s 883us/step - loss: 0.3242 - accuracy: 0.8648\n",
      "Epoch 133/200\n",
      "250/250 [==============================] - 0s 1ms/step - loss: 0.3244 - accuracy: 0.8637\n",
      "Epoch 134/200\n",
      "250/250 [==============================] - 0s 944us/step - loss: 0.3243 - accuracy: 0.8641\n",
      "Epoch 135/200\n",
      "250/250 [==============================] - 0s 1ms/step - loss: 0.3237 - accuracy: 0.8645\n",
      "Epoch 136/200\n",
      "250/250 [==============================] - 0s 1ms/step - loss: 0.3239 - accuracy: 0.8627\n",
      "Epoch 137/200\n",
      "250/250 [==============================] - 0s 1ms/step - loss: 0.3240 - accuracy: 0.8643\n",
      "Epoch 138/200\n",
      "250/250 [==============================] - 0s 1ms/step - loss: 0.3241 - accuracy: 0.8641\n",
      "Epoch 139/200\n",
      "250/250 [==============================] - 0s 1ms/step - loss: 0.3241 - accuracy: 0.8643\n",
      "Epoch 140/200\n",
      "250/250 [==============================] - 0s 1ms/step - loss: 0.3241 - accuracy: 0.8640\n",
      "Epoch 141/200\n",
      "250/250 [==============================] - 0s 896us/step - loss: 0.3240 - accuracy: 0.8637\n",
      "Epoch 142/200\n",
      "250/250 [==============================] - 0s 1ms/step - loss: 0.3240 - accuracy: 0.8649\n",
      "Epoch 143/200\n",
      "250/250 [==============================] - 0s 1ms/step - loss: 0.3239 - accuracy: 0.8645\n",
      "Epoch 144/200\n",
      "250/250 [==============================] - 0s 932us/step - loss: 0.3238 - accuracy: 0.8643\n",
      "Epoch 145/200\n",
      "250/250 [==============================] - 0s 928us/step - loss: 0.3237 - accuracy: 0.8639\n",
      "Epoch 146/200\n",
      "250/250 [==============================] - 0s 1ms/step - loss: 0.3237 - accuracy: 0.8648\n",
      "Epoch 147/200\n",
      "250/250 [==============================] - 0s 909us/step - loss: 0.3240 - accuracy: 0.8645\n",
      "Epoch 148/200\n",
      "250/250 [==============================] - 0s 981us/step - loss: 0.3238 - accuracy: 0.8644\n",
      "Epoch 149/200\n",
      "250/250 [==============================] - 0s 870us/step - loss: 0.3242 - accuracy: 0.8640\n",
      "Epoch 150/200\n",
      "250/250 [==============================] - 0s 1ms/step - loss: 0.3237 - accuracy: 0.8650\n",
      "Epoch 151/200\n",
      "250/250 [==============================] - 0s 968us/step - loss: 0.3239 - accuracy: 0.8640\n",
      "Epoch 152/200\n",
      "250/250 [==============================] - 0s 1ms/step - loss: 0.3238 - accuracy: 0.8633\n",
      "Epoch 153/200\n",
      "250/250 [==============================] - 0s 1ms/step - loss: 0.3238 - accuracy: 0.8643\n",
      "Epoch 154/200\n",
      "250/250 [==============================] - 0s 1ms/step - loss: 0.3239 - accuracy: 0.8634\n",
      "Epoch 155/200\n",
      "250/250 [==============================] - 0s 993us/step - loss: 0.3239 - accuracy: 0.8650\n",
      "Epoch 156/200\n",
      "250/250 [==============================] - 0s 883us/step - loss: 0.3239 - accuracy: 0.8630\n",
      "Epoch 157/200\n",
      "250/250 [==============================] - 0s 925us/step - loss: 0.3242 - accuracy: 0.8645\n",
      "Epoch 158/200\n"
     ]
    },
    {
     "name": "stdout",
     "output_type": "stream",
     "text": [
      "250/250 [==============================] - 0s 965us/step - loss: 0.3238 - accuracy: 0.8644\n",
      "Epoch 159/200\n",
      "250/250 [==============================] - 0s 986us/step - loss: 0.3242 - accuracy: 0.8639\n",
      "Epoch 160/200\n",
      "250/250 [==============================] - 0s 880us/step - loss: 0.3244 - accuracy: 0.8643\n",
      "Epoch 161/200\n",
      "250/250 [==============================] - 0s 909us/step - loss: 0.3239 - accuracy: 0.8644\n",
      "Epoch 162/200\n",
      "250/250 [==============================] - 0s 1ms/step - loss: 0.3236 - accuracy: 0.8656\n",
      "Epoch 163/200\n",
      "250/250 [==============================] - 0s 1ms/step - loss: 0.3240 - accuracy: 0.8635\n",
      "Epoch 164/200\n",
      "250/250 [==============================] - 0s 907us/step - loss: 0.3240 - accuracy: 0.8640\n",
      "Epoch 165/200\n",
      "250/250 [==============================] - 0s 900us/step - loss: 0.3239 - accuracy: 0.8629\n",
      "Epoch 166/200\n",
      "250/250 [==============================] - 0s 1ms/step - loss: 0.3240 - accuracy: 0.8643\n",
      "Epoch 167/200\n",
      "250/250 [==============================] - 0s 1ms/step - loss: 0.3239 - accuracy: 0.8641\n",
      "Epoch 168/200\n",
      "250/250 [==============================] - 0s 1ms/step - loss: 0.3239 - accuracy: 0.8640\n",
      "Epoch 169/200\n",
      "250/250 [==============================] - 0s 887us/step - loss: 0.3242 - accuracy: 0.8645\n",
      "Epoch 170/200\n",
      "250/250 [==============================] - 0s 1ms/step - loss: 0.3236 - accuracy: 0.8644\n",
      "Epoch 171/200\n",
      "250/250 [==============================] - 0s 1ms/step - loss: 0.3239 - accuracy: 0.8645\n",
      "Epoch 172/200\n",
      "250/250 [==============================] - 0s 903us/step - loss: 0.3238 - accuracy: 0.8651\n",
      "Epoch 173/200\n",
      "250/250 [==============================] - 0s 878us/step - loss: 0.3239 - accuracy: 0.8641\n",
      "Epoch 174/200\n",
      "250/250 [==============================] - 0s 1ms/step - loss: 0.3239 - accuracy: 0.8630\n",
      "Epoch 175/200\n",
      "250/250 [==============================] - 0s 968us/step - loss: 0.3239 - accuracy: 0.8639\n",
      "Epoch 176/200\n",
      "250/250 [==============================] - 0s 875us/step - loss: 0.3238 - accuracy: 0.8644\n",
      "Epoch 177/200\n",
      "250/250 [==============================] - 0s 915us/step - loss: 0.3237 - accuracy: 0.8639\n",
      "Epoch 178/200\n",
      "250/250 [==============================] - 0s 937us/step - loss: 0.3239 - accuracy: 0.8645\n",
      "Epoch 179/200\n",
      "250/250 [==============================] - 0s 1ms/step - loss: 0.3239 - accuracy: 0.8643\n",
      "Epoch 180/200\n",
      "250/250 [==============================] - 0s 1ms/step - loss: 0.3238 - accuracy: 0.8640\n",
      "Epoch 181/200\n",
      "250/250 [==============================] - 0s 1ms/step - loss: 0.3238 - accuracy: 0.8645\n",
      "Epoch 182/200\n",
      "250/250 [==============================] - 0s 1ms/step - loss: 0.3241 - accuracy: 0.8643\n",
      "Epoch 183/200\n",
      "250/250 [==============================] - 0s 1ms/step - loss: 0.3237 - accuracy: 0.8634\n",
      "Epoch 184/200\n",
      "250/250 [==============================] - 0s 1ms/step - loss: 0.3237 - accuracy: 0.8644\n",
      "Epoch 185/200\n",
      "250/250 [==============================] - 0s 1ms/step - loss: 0.3235 - accuracy: 0.8659\n",
      "Epoch 186/200\n",
      "250/250 [==============================] - 0s 877us/step - loss: 0.3236 - accuracy: 0.8640\n",
      "Epoch 187/200\n",
      "250/250 [==============================] - 0s 1ms/step - loss: 0.3239 - accuracy: 0.8643\n",
      "Epoch 188/200\n",
      "250/250 [==============================] - 0s 1ms/step - loss: 0.3237 - accuracy: 0.8648\n",
      "Epoch 189/200\n",
      "250/250 [==============================] - 0s 1ms/step - loss: 0.3236 - accuracy: 0.8644\n",
      "Epoch 190/200\n",
      "250/250 [==============================] - 0s 1ms/step - loss: 0.3237 - accuracy: 0.8648\n",
      "Epoch 191/200\n",
      "250/250 [==============================] - 0s 919us/step - loss: 0.3240 - accuracy: 0.8637\n",
      "Epoch 192/200\n",
      "250/250 [==============================] - 0s 1ms/step - loss: 0.3236 - accuracy: 0.8636\n",
      "Epoch 193/200\n",
      "250/250 [==============================] - 0s 1ms/step - loss: 0.3237 - accuracy: 0.8637\n",
      "Epoch 194/200\n",
      "250/250 [==============================] - 0s 1ms/step - loss: 0.3238 - accuracy: 0.8633\n",
      "Epoch 195/200\n",
      "250/250 [==============================] - 0s 1ms/step - loss: 0.3236 - accuracy: 0.8651\n",
      "Epoch 196/200\n",
      "250/250 [==============================] - 0s 937us/step - loss: 0.3237 - accuracy: 0.8627\n",
      "Epoch 197/200\n",
      "250/250 [==============================] - 0s 937us/step - loss: 0.3237 - accuracy: 0.8643\n",
      "Epoch 198/200\n",
      "250/250 [==============================] - 0s 886us/step - loss: 0.3238 - accuracy: 0.8641\n",
      "Epoch 199/200\n",
      "250/250 [==============================] - 0s 901us/step - loss: 0.3237 - accuracy: 0.8640\n",
      "Epoch 200/200\n",
      "250/250 [==============================] - 0s 1ms/step - loss: 0.3237 - accuracy: 0.8646\n"
     ]
    },
    {
     "data": {
      "text/plain": [
       "<keras.callbacks.History at 0x7fe28b070d10>"
      ]
     },
     "execution_count": 59,
     "metadata": {},
     "output_type": "execute_result"
    }
   ],
   "source": [
    "#TRAINING THE ANN ON TRAINING SET\n",
    "#->BATCH TRAINING MORE EFFICIENT\n",
    "#->GOOD AMOUNT OF EPOCHS FOR BETTER LEARNING\n",
    "ann.fit(X_TRAIN, Y_TRAIN, epochs=200, verbose=1, batch_size=32)"
   ]
  },
  {
   "cell_type": "code",
   "execution_count": 36,
   "id": "85553c92",
   "metadata": {},
   "outputs": [
    {
     "data": {
      "text/plain": [
       "array([[0., 0., 0., 0., 0., 0., 0., 0., 0., 0., 0., 0.]])"
      ]
     },
     "execution_count": 36,
     "metadata": {},
     "output_type": "execute_result"
    }
   ],
   "source": [
    "#MAKE A PREDICTION\n",
    "\n",
    "#TESTING DATA\n",
    "data = [[1,0,0,600,1,40,3,60000,2,1, 1,50000]]\n",
    "\n",
    "#SCALING\n",
    "data_scaled = sc.transform(data)\n",
    "\n",
    "data_scaled"
   ]
  },
  {
   "cell_type": "code",
   "execution_count": 38,
   "id": "154eb72c",
   "metadata": {},
   "outputs": [
    {
     "name": "stdout",
     "output_type": "stream",
     "text": [
      "1/1 [==============================] - 0s 111ms/step\n"
     ]
    }
   ],
   "source": [
    "prediction = ann.predict(data_scaled.tolist())"
   ]
  },
  {
   "cell_type": "code",
   "execution_count": 39,
   "id": "7a3c3338",
   "metadata": {},
   "outputs": [
    {
     "data": {
      "text/plain": [
       "array([[0.09351724]], dtype=float32)"
      ]
     },
     "execution_count": 39,
     "metadata": {},
     "output_type": "execute_result"
    }
   ],
   "source": [
    "prediction"
   ]
  },
  {
   "cell_type": "code",
   "execution_count": 43,
   "id": "f977d273",
   "metadata": {},
   "outputs": [
    {
     "name": "stdout",
     "output_type": "stream",
     "text": [
      "[[False]]\n"
     ]
    }
   ],
   "source": [
    "#CONVERT TO FINAL PREDICTION\n",
    "\n",
    "Threshold = 0.5\n",
    "prediction = prediction > Threshold\n",
    "print(prediction)"
   ]
  },
  {
   "cell_type": "code",
   "execution_count": 49,
   "id": "3651417e",
   "metadata": {},
   "outputs": [
    {
     "name": "stdout",
     "output_type": "stream",
     "text": [
      "63/63 [==============================] - 0s 1ms/step\n"
     ]
    }
   ],
   "source": [
    "#PREDICTING TEST\n",
    "predictions = ann.predict(X_TEST)"
   ]
  },
  {
   "cell_type": "code",
   "execution_count": 51,
   "id": "5faf7078",
   "metadata": {},
   "outputs": [
    {
     "name": "stdout",
     "output_type": "stream",
     "text": [
      "[[0 0]\n",
      " [0 0]\n",
      " [0 0]\n",
      " ...\n",
      " [1 1]\n",
      " [0 1]\n",
      " [0 1]]\n"
     ]
    }
   ],
   "source": [
    "#PRINT REAL RESULT AND PREDICTED\n",
    "predictions = (predictions>0.5)\n",
    "print(np.concatenate((predictions.reshape(len(predictions),1), Y_TEST.reshape(len(Y_TEST),1)),1))"
   ]
  },
  {
   "cell_type": "code",
   "execution_count": 56,
   "id": "f969598f",
   "metadata": {},
   "outputs": [
    {
     "name": "stdout",
     "output_type": "stream",
     "text": [
      "              precision    recall  f1-score   support\n",
      "\n",
      "           0       0.89      0.96      0.92      1607\n",
      "           1       0.73      0.50      0.59       393\n",
      "\n",
      "   micro avg       0.87      0.87      0.87      2000\n",
      "   macro avg       0.81      0.73      0.76      2000\n",
      "weighted avg       0.86      0.87      0.86      2000\n",
      "\n",
      "0.8655\n"
     ]
    }
   ],
   "source": [
    "from sklearn.metrics import classification_report, confusion_matrix, accuracy_score\n",
    "print(classification_report(Y_TEST, predictions))\n",
    "print(accuracy_score(Y_TEST, predictions))"
   ]
  },
  {
   "cell_type": "code",
   "execution_count": 58,
   "id": "951fa02d",
   "metadata": {},
   "outputs": [
    {
     "data": {
      "text/plain": [
       "numpy.ndarray"
      ]
     },
     "execution_count": 58,
     "metadata": {},
     "output_type": "execute_result"
    }
   ],
   "source": [
    "type(X_TRAIN)"
   ]
  },
  {
   "cell_type": "code",
   "execution_count": null,
   "id": "8087e98a",
   "metadata": {},
   "outputs": [],
   "source": []
  },
  {
   "cell_type": "code",
   "execution_count": null,
   "id": "95c26be4",
   "metadata": {},
   "outputs": [],
   "source": []
  }
 ],
 "metadata": {
  "kernelspec": {
   "display_name": "Python 3 (ipykernel)",
   "language": "python",
   "name": "python3"
  },
  "language_info": {
   "codemirror_mode": {
    "name": "ipython",
    "version": 3
   },
   "file_extension": ".py",
   "mimetype": "text/x-python",
   "name": "python",
   "nbconvert_exporter": "python",
   "pygments_lexer": "ipython3",
   "version": "3.7.16"
  }
 },
 "nbformat": 4,
 "nbformat_minor": 5
}
